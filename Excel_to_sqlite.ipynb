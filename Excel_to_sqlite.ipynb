{
 "cells": [
  {
   "cell_type": "code",
   "execution_count": 1,
   "id": "b7ab2afa",
   "metadata": {},
   "outputs": [
    {
     "name": "stdout",
     "output_type": "stream",
     "text": [
      "Data successfully moved from CSV file to SQLite database.\n"
     ]
    }
   ],
   "source": [
    "import csv\n",
    "import sqlite3\n",
    "\n",
    "def read_csv_data(csv_file_path):\n",
    "    \"\"\"Read data from CSV file and return as list of dictionaries\"\"\"\n",
    "    with open(csv_file_path, newline='', encoding='utf-8') as csvfile:\n",
    "        reader = csv.DictReader(csvfile)\n",
    "        return [row for row in reader]\n",
    "\n",
    "def initialize_database(db_path, data):\n",
    "    \"\"\"Create database and table with appropriate columns\"\"\"\n",
    "    conn = sqlite3.connect(db_path)\n",
    "    cursor = conn.cursor()\n",
    "    \n",
    "    columns = data[0].keys()\n",
    "    columns_with_types = \", \".join([f\"{col} TEXT\" for col in columns])\n",
    "    cursor.execute(f\"CREATE TABLE IF NOT EXISTS data_table ({columns_with_types})\")\n",
    "    \n",
    "    return conn, cursor\n",
    "\n",
    "def insert_data(cursor, data):\n",
    "    \"\"\"Insert data into the SQLite database\"\"\"\n",
    "    for row in data:\n",
    "        placeholders = \", \".join([\"?\"] * len(row))\n",
    "        values = tuple(row.values())\n",
    "        cursor.execute(f\"INSERT INTO data_table VALUES ({placeholders})\", values)\n",
    "\n",
    "def main():\n",
    "    csv_file_path = \"./database/Pull_Request_Data.csv\"\n",
    "    db_path = \"./database/Pull_request_Data_SQLITE.db\"\n",
    "    \n",
    "    data = read_csv_data(csv_file_path)\n",
    "    conn, cursor = initialize_database(db_path, data)\n",
    "    insert_data(cursor, data)\n",
    "    \n",
    "    conn.commit()\n",
    "    conn.close()\n",
    "    print(\"Data successfully moved from CSV file to SQLite database.\")\n",
    "\n",
    "if __name__ == \"__main__\":\n",
    "    main()"
   ]
  },
  {
   "cell_type": "code",
   "execution_count": 2,
   "id": "9b524808",
   "metadata": {},
   "outputs": [
    {
     "name": "stdout",
     "output_type": "stream",
     "text": [
      "Column 'merge_time' added and updated successfully.\n"
     ]
    }
   ],
   "source": [
    "def add_merge_time_column(db_path):\n",
    "    \"\"\"Add and calculate merge time column\"\"\"\n",
    "    conn = sqlite3.connect(db_path)\n",
    "    cursor = conn.cursor()\n",
    "    \n",
    "    # Add new column\n",
    "    cursor.execute(\"ALTER TABLE data_table ADD COLUMN merge_Ti TEXT\")\n",
    "    \n",
    "    # Calculate merge time\n",
    "    cursor.execute(\"\"\"\n",
    "        UPDATE data_table\n",
    "        SET merge_Ti = \n",
    "            CASE \n",
    "                WHEN Merged_Date IS NOT NULL AND Merged_Date != '' \n",
    "                THEN ( julianday(Merged_Date) - julianday(Created_Date)) || ' days'\n",
    "                ELSE NULL\n",
    "            END\n",
    "    \"\"\")\n",
    "    \n",
    "    conn.commit()\n",
    "    conn.close()\n",
    "    print(\"Column 'merge_time' added and updated successfully.\")\n",
    "\n",
    "# Execute the function\n",
    "add_merge_time_column(\"./database/Pull_request_Data_SQLITE.db\")"
   ]
  },
  {
   "cell_type": "code",
   "execution_count": 3,
   "id": "bd957ff0",
   "metadata": {},
   "outputs": [
    {
     "name": "stdout",
     "output_type": "stream",
     "text": [
      "Tables in the database: [('data_table',)]\n",
      "\n",
      "Schema of the table:\n",
      "(0, 'PR_ID', 'TEXT', 0, None, 0)\n",
      "(1, 'Created_Date', 'TEXT', 0, None, 0)\n",
      "(2, 'Merged_Date', 'TEXT', 0, None, 0)\n",
      "(3, 'Assignee', 'TEXT', 0, None, 0)\n",
      "(4, 'Status', 'TEXT', 0, None, 0)\n",
      "(5, 'Reviewer_Feedback', 'TEXT', 0, None, 0)\n",
      "(6, 'merge_Ti', 'TEXT', 0, None, 0)\n",
      "\n",
      "First 10 rows in the table:\n",
      "('1', '2024-12-17 07:15:08', '2024-12-21 07:15:08', 'Bob', 'merged', 'Pending review', '4.0 days')\n",
      "('2', '2025-01-12 07:15:08', '2025-01-17 07:15:08', 'Eve', 'closed', 'Good', '5.0 days')\n",
      "('3', '2025-01-21 07:15:08', '', 'Alice', 'open', 'Good', None)\n",
      "('4', '2025-01-21 07:15:08', '2025-01-20 07:15:08', 'Eve', 'merged', 'Good', '-1.0 days')\n",
      "('5', '2025-01-14 07:15:08', '', 'David', 'open', 'Needs changes', None)\n",
      "('6', '2024-12-20 07:15:08', '2024-12-29 07:15:08', 'David', 'merged', 'Needs changes', '9.0 days')\n",
      "('7', '2025-01-05 07:15:08', '2025-01-14 07:15:08', 'Charlie', 'merged', 'Needs changes', '9.0 days')\n",
      "('8', '2025-01-20 07:15:08', '', 'Charlie', 'open', 'Good', None)\n",
      "('9', '2024-12-03 07:15:08', '2024-12-15 07:15:08', 'Alice', 'closed', 'Pending review', '12.0 days')\n",
      "('10', '2024-12-11 07:15:08', '2024-12-04 07:15:08', 'David', 'closed', 'Good', '-7.0 days')\n"
     ]
    }
   ],
   "source": [
    "def inspect_database(db_path):\n",
    "    \"\"\"Inspect database structure and content\"\"\"\n",
    "    conn = sqlite3.connect(db_path)\n",
    "    cursor = conn.cursor()\n",
    "    \n",
    "    # Show tables\n",
    "    cursor.execute(\"SELECT name FROM sqlite_master WHERE type='table';\")\n",
    "    tables = cursor.fetchall()\n",
    "    print(\"Tables in the database:\", tables)\n",
    "    \n",
    "    # Show schema\n",
    "    cursor.execute(\"PRAGMA table_info(data_table);\")\n",
    "    schema = cursor.fetchall()\n",
    "    print(\"\\nSchema of the table:\")\n",
    "    for column in schema:\n",
    "        print(column)\n",
    "    \n",
    "    # Show sample data\n",
    "    cursor.execute(\"SELECT * FROM data_table LIMIT 10;\")\n",
    "    rows = cursor.fetchall()\n",
    "    print(\"\\nFirst 10 rows in the table:\")\n",
    "    for row in rows:\n",
    "        print(row)\n",
    "    \n",
    "    conn.close()\n",
    "\n",
    "# Execute the function\n",
    "inspect_database(\"./database/Pull_request_Data_SQLITE.db\")"
   ]
  }
 ],
 "metadata": {
  "kernelspec": {
   "display_name": "Python 3",
   "language": "python",
   "name": "python3"
  },
  "language_info": {
   "codemirror_mode": {
    "name": "ipython",
    "version": 3
   },
   "file_extension": ".py",
   "mimetype": "text/x-python",
   "name": "python",
   "nbconvert_exporter": "python",
   "pygments_lexer": "ipython3",
   "version": "3.10.11"
  }
 },
 "nbformat": 4,
 "nbformat_minor": 5
}
